{
  "nbformat": 4,
  "nbformat_minor": 0,
  "metadata": {
    "colab": {
      "name": "Apnea_Physionet_dataset.ipynb",
      "provenance": [],
      "collapsed_sections": []
    },
    "kernelspec": {
      "name": "python3",
      "display_name": "Python 3"
    },
    "language_info": {
      "name": "python"
    }
  },
  "cells": [
    {
      "cell_type": "markdown",
      "metadata": {
        "id": "ZGNOqCjucRts"
      },
      "source": [
        "**Analysis of the Apnea ECG data derived from Physionet database for 70 persons**\n",
        "\n",
        "Source: https://archive.physionet.org/physiobank/database/apnea-ecg/additional-information.txt"
      ]
    },
    {
      "cell_type": "code",
      "metadata": {
        "colab": {
          "base_uri": "https://localhost:8080/",
          "height": 419
        },
        "id": "HUTggiw9cjYc",
        "outputId": "6fe10131-75e8-4c5d-9215-7a97ed57a56b"
      },
      "source": [
        "\n",
        "import pandas as pd\n",
        "df = pd.read_csv('/content/sample_data/Physionet_data.txt',sep=\"\\t\",names=[\"Record\",\"Length_in_mins\",\"non_apn_mins\",\"apnea_mins\",\"hours_with_apnea\",\"AI\",\"HI\",\"AHI\",\"Age\",\"Sex\",\"height(cm)\",\"weight(kg)\"],index_col=False)\n",
        "\n",
        "df"
      ],
      "execution_count": null,
      "outputs": [
        {
          "output_type": "execute_result",
          "data": {
            "text/html": [
              "<div>\n",
              "<style scoped>\n",
              "    .dataframe tbody tr th:only-of-type {\n",
              "        vertical-align: middle;\n",
              "    }\n",
              "\n",
              "    .dataframe tbody tr th {\n",
              "        vertical-align: top;\n",
              "    }\n",
              "\n",
              "    .dataframe thead th {\n",
              "        text-align: right;\n",
              "    }\n",
              "</style>\n",
              "<table border=\"1\" class=\"dataframe\">\n",
              "  <thead>\n",
              "    <tr style=\"text-align: right;\">\n",
              "      <th></th>\n",
              "      <th>Record</th>\n",
              "      <th>Length_in_mins</th>\n",
              "      <th>non_apn_mins</th>\n",
              "      <th>apnea_mins</th>\n",
              "      <th>hours_with_apnea</th>\n",
              "      <th>AI</th>\n",
              "      <th>HI</th>\n",
              "      <th>AHI</th>\n",
              "      <th>Age</th>\n",
              "      <th>Sex</th>\n",
              "      <th>height(cm)</th>\n",
              "      <th>weight(kg)</th>\n",
              "    </tr>\n",
              "  </thead>\n",
              "  <tbody>\n",
              "    <tr>\n",
              "      <th>0</th>\n",
              "      <td>Record</td>\n",
              "      <td>Length</td>\n",
              "      <td>non-apn</td>\n",
              "      <td>apnea</td>\n",
              "      <td>hours</td>\n",
              "      <td>AI</td>\n",
              "      <td>HI</td>\n",
              "      <td>AHI</td>\n",
              "      <td>Age</td>\n",
              "      <td>Sex</td>\n",
              "      <td>height</td>\n",
              "      <td>weight</td>\n",
              "    </tr>\n",
              "    <tr>\n",
              "      <th>1</th>\n",
              "      <td>NaN</td>\n",
              "      <td>minutes</td>\n",
              "      <td>minutes</td>\n",
              "      <td>minutes</td>\n",
              "      <td>w/apnea</td>\n",
              "      <td>NaN</td>\n",
              "      <td>NaN</td>\n",
              "      <td>NaN</td>\n",
              "      <td>NaN</td>\n",
              "      <td>NaN</td>\n",
              "      <td>(cm)</td>\n",
              "      <td>(kg)</td>\n",
              "    </tr>\n",
              "    <tr>\n",
              "      <th>2</th>\n",
              "      <td>a01</td>\n",
              "      <td>490</td>\n",
              "      <td>20</td>\n",
              "      <td>470</td>\n",
              "      <td>9</td>\n",
              "      <td>12.5</td>\n",
              "      <td>57.1</td>\n",
              "      <td>69.6</td>\n",
              "      <td>51</td>\n",
              "      <td>M</td>\n",
              "      <td>175</td>\n",
              "      <td>102</td>\n",
              "    </tr>\n",
              "    <tr>\n",
              "      <th>3</th>\n",
              "      <td>a02</td>\n",
              "      <td>529</td>\n",
              "      <td>109</td>\n",
              "      <td>420</td>\n",
              "      <td>9</td>\n",
              "      <td>57.2</td>\n",
              "      <td>12.3</td>\n",
              "      <td>69.5</td>\n",
              "      <td>38</td>\n",
              "      <td>M</td>\n",
              "      <td>180</td>\n",
              "      <td>120</td>\n",
              "    </tr>\n",
              "    <tr>\n",
              "      <th>4</th>\n",
              "      <td>a03</td>\n",
              "      <td>520</td>\n",
              "      <td>274</td>\n",
              "      <td>246</td>\n",
              "      <td>9</td>\n",
              "      <td>38.4</td>\n",
              "      <td>0.7</td>\n",
              "      <td>39.1</td>\n",
              "      <td>54</td>\n",
              "      <td>M</td>\n",
              "      <td>168</td>\n",
              "      <td>80</td>\n",
              "    </tr>\n",
              "    <tr>\n",
              "      <th>...</th>\n",
              "      <td>...</td>\n",
              "      <td>...</td>\n",
              "      <td>...</td>\n",
              "      <td>...</td>\n",
              "      <td>...</td>\n",
              "      <td>...</td>\n",
              "      <td>...</td>\n",
              "      <td>...</td>\n",
              "      <td>...</td>\n",
              "      <td>...</td>\n",
              "      <td>...</td>\n",
              "      <td>...</td>\n",
              "    </tr>\n",
              "    <tr>\n",
              "      <th>67</th>\n",
              "      <td>x31</td>\n",
              "      <td>558</td>\n",
              "      <td>42</td>\n",
              "      <td>516</td>\n",
              "      <td>10</td>\n",
              "      <td>86.8</td>\n",
              "      <td>6.7</td>\n",
              "      <td>93.5</td>\n",
              "      <td>29</td>\n",
              "      <td>F</td>\n",
              "      <td>183</td>\n",
              "      <td>100</td>\n",
              "    </tr>\n",
              "    <tr>\n",
              "      <th>68</th>\n",
              "      <td>x32</td>\n",
              "      <td>539</td>\n",
              "      <td>114</td>\n",
              "      <td>425</td>\n",
              "      <td>9</td>\n",
              "      <td>63.3</td>\n",
              "      <td>8.5</td>\n",
              "      <td>71.8</td>\n",
              "      <td>29</td>\n",
              "      <td>F</td>\n",
              "      <td>183</td>\n",
              "      <td>100</td>\n",
              "    </tr>\n",
              "    <tr>\n",
              "      <th>69</th>\n",
              "      <td>x33</td>\n",
              "      <td>474</td>\n",
              "      <td>471</td>\n",
              "      <td>3</td>\n",
              "      <td>0</td>\n",
              "      <td>0.13</td>\n",
              "      <td>0</td>\n",
              "      <td>0.13</td>\n",
              "      <td>28</td>\n",
              "      <td>F</td>\n",
              "      <td>169</td>\n",
              "      <td>57</td>\n",
              "    </tr>\n",
              "    <tr>\n",
              "      <th>70</th>\n",
              "      <td>x34</td>\n",
              "      <td>476</td>\n",
              "      <td>472</td>\n",
              "      <td>4</td>\n",
              "      <td>0</td>\n",
              "      <td>0.38</td>\n",
              "      <td>0</td>\n",
              "      <td>0.38</td>\n",
              "      <td>30</td>\n",
              "      <td>F</td>\n",
              "      <td>168</td>\n",
              "      <td>56</td>\n",
              "    </tr>\n",
              "    <tr>\n",
              "      <th>71</th>\n",
              "      <td>x35</td>\n",
              "      <td>484</td>\n",
              "      <td>484</td>\n",
              "      <td>0</td>\n",
              "      <td>0</td>\n",
              "      <td>0</td>\n",
              "      <td>0</td>\n",
              "      <td>0</td>\n",
              "      <td>31</td>\n",
              "      <td>M</td>\n",
              "      <td>184</td>\n",
              "      <td>74</td>\n",
              "    </tr>\n",
              "  </tbody>\n",
              "</table>\n",
              "<p>72 rows × 12 columns</p>\n",
              "</div>"
            ],
            "text/plain": [
              "    Record Length_in_mins non_apn_mins  ...  Sex height(cm) weight(kg)\n",
              "0   Record         Length      non-apn  ...  Sex     height     weight\n",
              "1      NaN        minutes      minutes  ...  NaN       (cm)       (kg)\n",
              "2      a01            490           20  ...    M        175        102\n",
              "3      a02            529          109  ...    M        180        120\n",
              "4      a03            520          274  ...    M        168         80\n",
              "..     ...            ...          ...  ...  ...        ...        ...\n",
              "67     x31            558           42  ...    F        183        100\n",
              "68     x32            539          114  ...    F        183        100\n",
              "69     x33            474          471  ...    F        169         57\n",
              "70     x34            476          472  ...    F        168         56\n",
              "71     x35            484          484  ...    M        184         74\n",
              "\n",
              "[72 rows x 12 columns]"
            ]
          },
          "metadata": {},
          "execution_count": 23
        }
      ]
    },
    {
      "cell_type": "code",
      "metadata": {
        "colab": {
          "base_uri": "https://localhost:8080/",
          "height": 419
        },
        "id": "4HuNFTKzZEIm",
        "outputId": "33fb9342-7f8d-4a7f-8024-16c7758820d8"
      },
      "source": [
        "# removing the top 2 columns and reseting the index column\n",
        "apnea_data = df.drop(df.index[:2])\n",
        "\n",
        "apnea_data.reset_index(drop=True, inplace=True)\n",
        "apnea_data"
      ],
      "execution_count": null,
      "outputs": [
        {
          "output_type": "execute_result",
          "data": {
            "text/html": [
              "<div>\n",
              "<style scoped>\n",
              "    .dataframe tbody tr th:only-of-type {\n",
              "        vertical-align: middle;\n",
              "    }\n",
              "\n",
              "    .dataframe tbody tr th {\n",
              "        vertical-align: top;\n",
              "    }\n",
              "\n",
              "    .dataframe thead th {\n",
              "        text-align: right;\n",
              "    }\n",
              "</style>\n",
              "<table border=\"1\" class=\"dataframe\">\n",
              "  <thead>\n",
              "    <tr style=\"text-align: right;\">\n",
              "      <th></th>\n",
              "      <th>Record</th>\n",
              "      <th>Length_in_mins</th>\n",
              "      <th>non_apn_mins</th>\n",
              "      <th>apnea_mins</th>\n",
              "      <th>hours_with_apnea</th>\n",
              "      <th>AI</th>\n",
              "      <th>HI</th>\n",
              "      <th>AHI</th>\n",
              "      <th>Age</th>\n",
              "      <th>Sex</th>\n",
              "      <th>height(cm)</th>\n",
              "      <th>weight(kg)</th>\n",
              "    </tr>\n",
              "  </thead>\n",
              "  <tbody>\n",
              "    <tr>\n",
              "      <th>0</th>\n",
              "      <td>a01</td>\n",
              "      <td>490</td>\n",
              "      <td>20</td>\n",
              "      <td>470</td>\n",
              "      <td>9</td>\n",
              "      <td>12.5</td>\n",
              "      <td>57.1</td>\n",
              "      <td>69.6</td>\n",
              "      <td>51</td>\n",
              "      <td>M</td>\n",
              "      <td>175</td>\n",
              "      <td>102</td>\n",
              "    </tr>\n",
              "    <tr>\n",
              "      <th>1</th>\n",
              "      <td>a02</td>\n",
              "      <td>529</td>\n",
              "      <td>109</td>\n",
              "      <td>420</td>\n",
              "      <td>9</td>\n",
              "      <td>57.2</td>\n",
              "      <td>12.3</td>\n",
              "      <td>69.5</td>\n",
              "      <td>38</td>\n",
              "      <td>M</td>\n",
              "      <td>180</td>\n",
              "      <td>120</td>\n",
              "    </tr>\n",
              "    <tr>\n",
              "      <th>2</th>\n",
              "      <td>a03</td>\n",
              "      <td>520</td>\n",
              "      <td>274</td>\n",
              "      <td>246</td>\n",
              "      <td>9</td>\n",
              "      <td>38.4</td>\n",
              "      <td>0.7</td>\n",
              "      <td>39.1</td>\n",
              "      <td>54</td>\n",
              "      <td>M</td>\n",
              "      <td>168</td>\n",
              "      <td>80</td>\n",
              "    </tr>\n",
              "    <tr>\n",
              "      <th>3</th>\n",
              "      <td>a04</td>\n",
              "      <td>493</td>\n",
              "      <td>40</td>\n",
              "      <td>453</td>\n",
              "      <td>9</td>\n",
              "      <td>73.4</td>\n",
              "      <td>4</td>\n",
              "      <td>77.4</td>\n",
              "      <td>52</td>\n",
              "      <td>M</td>\n",
              "      <td>173</td>\n",
              "      <td>121</td>\n",
              "    </tr>\n",
              "    <tr>\n",
              "      <th>4</th>\n",
              "      <td>a05</td>\n",
              "      <td>455</td>\n",
              "      <td>179</td>\n",
              "      <td>276</td>\n",
              "      <td>8</td>\n",
              "      <td>35</td>\n",
              "      <td>6</td>\n",
              "      <td>41</td>\n",
              "      <td>58</td>\n",
              "      <td>M</td>\n",
              "      <td>176</td>\n",
              "      <td>78</td>\n",
              "    </tr>\n",
              "    <tr>\n",
              "      <th>...</th>\n",
              "      <td>...</td>\n",
              "      <td>...</td>\n",
              "      <td>...</td>\n",
              "      <td>...</td>\n",
              "      <td>...</td>\n",
              "      <td>...</td>\n",
              "      <td>...</td>\n",
              "      <td>...</td>\n",
              "      <td>...</td>\n",
              "      <td>...</td>\n",
              "      <td>...</td>\n",
              "      <td>...</td>\n",
              "    </tr>\n",
              "    <tr>\n",
              "      <th>65</th>\n",
              "      <td>x31</td>\n",
              "      <td>558</td>\n",
              "      <td>42</td>\n",
              "      <td>516</td>\n",
              "      <td>10</td>\n",
              "      <td>86.8</td>\n",
              "      <td>6.7</td>\n",
              "      <td>93.5</td>\n",
              "      <td>29</td>\n",
              "      <td>F</td>\n",
              "      <td>183</td>\n",
              "      <td>100</td>\n",
              "    </tr>\n",
              "    <tr>\n",
              "      <th>66</th>\n",
              "      <td>x32</td>\n",
              "      <td>539</td>\n",
              "      <td>114</td>\n",
              "      <td>425</td>\n",
              "      <td>9</td>\n",
              "      <td>63.3</td>\n",
              "      <td>8.5</td>\n",
              "      <td>71.8</td>\n",
              "      <td>29</td>\n",
              "      <td>F</td>\n",
              "      <td>183</td>\n",
              "      <td>100</td>\n",
              "    </tr>\n",
              "    <tr>\n",
              "      <th>67</th>\n",
              "      <td>x33</td>\n",
              "      <td>474</td>\n",
              "      <td>471</td>\n",
              "      <td>3</td>\n",
              "      <td>0</td>\n",
              "      <td>0.13</td>\n",
              "      <td>0</td>\n",
              "      <td>0.13</td>\n",
              "      <td>28</td>\n",
              "      <td>F</td>\n",
              "      <td>169</td>\n",
              "      <td>57</td>\n",
              "    </tr>\n",
              "    <tr>\n",
              "      <th>68</th>\n",
              "      <td>x34</td>\n",
              "      <td>476</td>\n",
              "      <td>472</td>\n",
              "      <td>4</td>\n",
              "      <td>0</td>\n",
              "      <td>0.38</td>\n",
              "      <td>0</td>\n",
              "      <td>0.38</td>\n",
              "      <td>30</td>\n",
              "      <td>F</td>\n",
              "      <td>168</td>\n",
              "      <td>56</td>\n",
              "    </tr>\n",
              "    <tr>\n",
              "      <th>69</th>\n",
              "      <td>x35</td>\n",
              "      <td>484</td>\n",
              "      <td>484</td>\n",
              "      <td>0</td>\n",
              "      <td>0</td>\n",
              "      <td>0</td>\n",
              "      <td>0</td>\n",
              "      <td>0</td>\n",
              "      <td>31</td>\n",
              "      <td>M</td>\n",
              "      <td>184</td>\n",
              "      <td>74</td>\n",
              "    </tr>\n",
              "  </tbody>\n",
              "</table>\n",
              "<p>70 rows × 12 columns</p>\n",
              "</div>"
            ],
            "text/plain": [
              "   Record Length_in_mins non_apn_mins apnea_mins  ... Age Sex height(cm) weight(kg)\n",
              "0     a01            490           20        470  ...  51   M        175        102\n",
              "1     a02            529          109        420  ...  38   M        180        120\n",
              "2     a03            520          274        246  ...  54   M        168         80\n",
              "3     a04            493           40        453  ...  52   M        173        121\n",
              "4     a05            455          179        276  ...  58   M        176         78\n",
              "..    ...            ...          ...        ...  ...  ..  ..        ...        ...\n",
              "65    x31            558           42        516  ...  29   F        183        100\n",
              "66    x32            539          114        425  ...  29   F        183        100\n",
              "67    x33            474          471          3  ...  28   F        169         57\n",
              "68    x34            476          472          4  ...  30   F        168         56\n",
              "69    x35            484          484          0  ...  31   M        184         74\n",
              "\n",
              "[70 rows x 12 columns]"
            ]
          },
          "metadata": {},
          "execution_count": 2
        }
      ]
    },
    {
      "cell_type": "code",
      "metadata": {
        "colab": {
          "base_uri": "https://localhost:8080/",
          "height": 419
        },
        "id": "KUPEQuMpcVw-",
        "outputId": "a1d34c27-167a-4b11-da40-4577cc0fea0f"
      },
      "source": [
        "apnea_data"
      ],
      "execution_count": null,
      "outputs": [
        {
          "output_type": "execute_result",
          "data": {
            "text/html": [
              "<div>\n",
              "<style scoped>\n",
              "    .dataframe tbody tr th:only-of-type {\n",
              "        vertical-align: middle;\n",
              "    }\n",
              "\n",
              "    .dataframe tbody tr th {\n",
              "        vertical-align: top;\n",
              "    }\n",
              "\n",
              "    .dataframe thead th {\n",
              "        text-align: right;\n",
              "    }\n",
              "</style>\n",
              "<table border=\"1\" class=\"dataframe\">\n",
              "  <thead>\n",
              "    <tr style=\"text-align: right;\">\n",
              "      <th></th>\n",
              "      <th>Record</th>\n",
              "      <th>Length_in_mins</th>\n",
              "      <th>non_apn_mins</th>\n",
              "      <th>apnea_mins</th>\n",
              "      <th>hours_with_apnea</th>\n",
              "      <th>AI</th>\n",
              "      <th>HI</th>\n",
              "      <th>AHI</th>\n",
              "      <th>Age</th>\n",
              "      <th>Sex</th>\n",
              "      <th>height(cm)</th>\n",
              "      <th>weight(kg)</th>\n",
              "    </tr>\n",
              "  </thead>\n",
              "  <tbody>\n",
              "    <tr>\n",
              "      <th>0</th>\n",
              "      <td>a01</td>\n",
              "      <td>490</td>\n",
              "      <td>20</td>\n",
              "      <td>470</td>\n",
              "      <td>9</td>\n",
              "      <td>12.5</td>\n",
              "      <td>57.1</td>\n",
              "      <td>69.6</td>\n",
              "      <td>51</td>\n",
              "      <td>M</td>\n",
              "      <td>175</td>\n",
              "      <td>102</td>\n",
              "    </tr>\n",
              "    <tr>\n",
              "      <th>1</th>\n",
              "      <td>a02</td>\n",
              "      <td>529</td>\n",
              "      <td>109</td>\n",
              "      <td>420</td>\n",
              "      <td>9</td>\n",
              "      <td>57.2</td>\n",
              "      <td>12.3</td>\n",
              "      <td>69.5</td>\n",
              "      <td>38</td>\n",
              "      <td>M</td>\n",
              "      <td>180</td>\n",
              "      <td>120</td>\n",
              "    </tr>\n",
              "    <tr>\n",
              "      <th>2</th>\n",
              "      <td>a03</td>\n",
              "      <td>520</td>\n",
              "      <td>274</td>\n",
              "      <td>246</td>\n",
              "      <td>9</td>\n",
              "      <td>38.4</td>\n",
              "      <td>0.7</td>\n",
              "      <td>39.1</td>\n",
              "      <td>54</td>\n",
              "      <td>M</td>\n",
              "      <td>168</td>\n",
              "      <td>80</td>\n",
              "    </tr>\n",
              "    <tr>\n",
              "      <th>3</th>\n",
              "      <td>a04</td>\n",
              "      <td>493</td>\n",
              "      <td>40</td>\n",
              "      <td>453</td>\n",
              "      <td>9</td>\n",
              "      <td>73.4</td>\n",
              "      <td>4</td>\n",
              "      <td>77.4</td>\n",
              "      <td>52</td>\n",
              "      <td>M</td>\n",
              "      <td>173</td>\n",
              "      <td>121</td>\n",
              "    </tr>\n",
              "    <tr>\n",
              "      <th>4</th>\n",
              "      <td>a05</td>\n",
              "      <td>455</td>\n",
              "      <td>179</td>\n",
              "      <td>276</td>\n",
              "      <td>8</td>\n",
              "      <td>35</td>\n",
              "      <td>6</td>\n",
              "      <td>41</td>\n",
              "      <td>58</td>\n",
              "      <td>M</td>\n",
              "      <td>176</td>\n",
              "      <td>78</td>\n",
              "    </tr>\n",
              "    <tr>\n",
              "      <th>...</th>\n",
              "      <td>...</td>\n",
              "      <td>...</td>\n",
              "      <td>...</td>\n",
              "      <td>...</td>\n",
              "      <td>...</td>\n",
              "      <td>...</td>\n",
              "      <td>...</td>\n",
              "      <td>...</td>\n",
              "      <td>...</td>\n",
              "      <td>...</td>\n",
              "      <td>...</td>\n",
              "      <td>...</td>\n",
              "    </tr>\n",
              "    <tr>\n",
              "      <th>65</th>\n",
              "      <td>x31</td>\n",
              "      <td>558</td>\n",
              "      <td>42</td>\n",
              "      <td>516</td>\n",
              "      <td>10</td>\n",
              "      <td>86.8</td>\n",
              "      <td>6.7</td>\n",
              "      <td>93.5</td>\n",
              "      <td>29</td>\n",
              "      <td>F</td>\n",
              "      <td>183</td>\n",
              "      <td>100</td>\n",
              "    </tr>\n",
              "    <tr>\n",
              "      <th>66</th>\n",
              "      <td>x32</td>\n",
              "      <td>539</td>\n",
              "      <td>114</td>\n",
              "      <td>425</td>\n",
              "      <td>9</td>\n",
              "      <td>63.3</td>\n",
              "      <td>8.5</td>\n",
              "      <td>71.8</td>\n",
              "      <td>29</td>\n",
              "      <td>F</td>\n",
              "      <td>183</td>\n",
              "      <td>100</td>\n",
              "    </tr>\n",
              "    <tr>\n",
              "      <th>67</th>\n",
              "      <td>x33</td>\n",
              "      <td>474</td>\n",
              "      <td>471</td>\n",
              "      <td>3</td>\n",
              "      <td>0</td>\n",
              "      <td>0.13</td>\n",
              "      <td>0</td>\n",
              "      <td>0.13</td>\n",
              "      <td>28</td>\n",
              "      <td>F</td>\n",
              "      <td>169</td>\n",
              "      <td>57</td>\n",
              "    </tr>\n",
              "    <tr>\n",
              "      <th>68</th>\n",
              "      <td>x34</td>\n",
              "      <td>476</td>\n",
              "      <td>472</td>\n",
              "      <td>4</td>\n",
              "      <td>0</td>\n",
              "      <td>0.38</td>\n",
              "      <td>0</td>\n",
              "      <td>0.38</td>\n",
              "      <td>30</td>\n",
              "      <td>F</td>\n",
              "      <td>168</td>\n",
              "      <td>56</td>\n",
              "    </tr>\n",
              "    <tr>\n",
              "      <th>69</th>\n",
              "      <td>x35</td>\n",
              "      <td>484</td>\n",
              "      <td>484</td>\n",
              "      <td>0</td>\n",
              "      <td>0</td>\n",
              "      <td>0</td>\n",
              "      <td>0</td>\n",
              "      <td>0</td>\n",
              "      <td>31</td>\n",
              "      <td>M</td>\n",
              "      <td>184</td>\n",
              "      <td>74</td>\n",
              "    </tr>\n",
              "  </tbody>\n",
              "</table>\n",
              "<p>70 rows × 12 columns</p>\n",
              "</div>"
            ],
            "text/plain": [
              "   Record Length_in_mins non_apn_mins apnea_mins  ... Age Sex height(cm) weight(kg)\n",
              "0     a01            490           20        470  ...  51   M        175        102\n",
              "1     a02            529          109        420  ...  38   M        180        120\n",
              "2     a03            520          274        246  ...  54   M        168         80\n",
              "3     a04            493           40        453  ...  52   M        173        121\n",
              "4     a05            455          179        276  ...  58   M        176         78\n",
              "..    ...            ...          ...        ...  ...  ..  ..        ...        ...\n",
              "65    x31            558           42        516  ...  29   F        183        100\n",
              "66    x32            539          114        425  ...  29   F        183        100\n",
              "67    x33            474          471          3  ...  28   F        169         57\n",
              "68    x34            476          472          4  ...  30   F        168         56\n",
              "69    x35            484          484          0  ...  31   M        184         74\n",
              "\n",
              "[70 rows x 12 columns]"
            ]
          },
          "metadata": {},
          "execution_count": 3
        }
      ]
    },
    {
      "cell_type": "markdown",
      "metadata": {
        "id": "iCswSwLIdJc-"
      },
      "source": [
        "**Converting the Numerical data into int64 datatype**"
      ]
    },
    {
      "cell_type": "code",
      "metadata": {
        "id": "qdlqDLmSXfvs"
      },
      "source": [
        "#apnea_data['AHI'] = apnea_data['AHI'].astype(int)\n",
        "\n",
        "apnea_data['AHI'] = pd.to_numeric(apnea_data['AHI'])\n",
        "apnea_data['Length_in_mins'] = pd.to_numeric(apnea_data['Length_in_mins'])\n",
        "apnea_data['non_apn_mins'] = pd.to_numeric(apnea_data['non_apn_mins'])\n",
        "apnea_data['apnea_mins'] = pd.to_numeric(apnea_data['apnea_mins'])\n",
        "apnea_data['hours_with_apnea'] = pd.to_numeric(apnea_data['hours_with_apnea'])\n",
        "apnea_data['AI'] = pd.to_numeric(apnea_data['AI'])\n",
        "apnea_data['HI'] = pd.to_numeric(apnea_data['HI'])\n",
        "apnea_data['Age'] = pd.to_numeric(apnea_data['Age'])\n",
        "apnea_data['height(cm)'] = pd.to_numeric(apnea_data['height(cm)'])\n",
        "apnea_data['weight(kg)'] = pd.to_numeric(apnea_data['weight(kg)'])"
      ],
      "execution_count": null,
      "outputs": []
    },
    {
      "cell_type": "code",
      "metadata": {
        "colab": {
          "base_uri": "https://localhost:8080/"
        },
        "id": "uZrrm1uGdYKq",
        "outputId": "16daef42-98a3-4ffb-8318-76e8014f46a9"
      },
      "source": [
        "apnea_data.dtypes"
      ],
      "execution_count": null,
      "outputs": [
        {
          "output_type": "execute_result",
          "data": {
            "text/plain": [
              "Record               object\n",
              "Length_in_mins        int64\n",
              "non_apn_mins          int64\n",
              "apnea_mins            int64\n",
              "hours_with_apnea      int64\n",
              "AI                  float64\n",
              "HI                  float64\n",
              "AHI                 float64\n",
              "Age                   int64\n",
              "Sex                  object\n",
              "height(cm)            int64\n",
              "weight(kg)            int64\n",
              "Patient_status       object\n",
              "dtype: object"
            ]
          },
          "metadata": {},
          "execution_count": 24
        }
      ]
    },
    {
      "cell_type": "markdown",
      "metadata": {
        "id": "MJqaePRXdcOS"
      },
      "source": [
        "**Adding a new category column named \"Patient_Status\"**"
      ]
    },
    {
      "cell_type": "code",
      "metadata": {
        "id": "pxhD4VZfVdHx"
      },
      "source": [
        "apnea_data['Patient_status']=\" \""
      ],
      "execution_count": null,
      "outputs": []
    },
    {
      "cell_type": "code",
      "metadata": {
        "colab": {
          "base_uri": "https://localhost:8080/",
          "height": 419
        },
        "id": "B3Y1Bn5iVjM7",
        "outputId": "138352ac-8a34-4d56-9ef2-f3e14144b7d6"
      },
      "source": [
        "apnea_data"
      ],
      "execution_count": null,
      "outputs": [
        {
          "output_type": "execute_result",
          "data": {
            "text/html": [
              "<div>\n",
              "<style scoped>\n",
              "    .dataframe tbody tr th:only-of-type {\n",
              "        vertical-align: middle;\n",
              "    }\n",
              "\n",
              "    .dataframe tbody tr th {\n",
              "        vertical-align: top;\n",
              "    }\n",
              "\n",
              "    .dataframe thead th {\n",
              "        text-align: right;\n",
              "    }\n",
              "</style>\n",
              "<table border=\"1\" class=\"dataframe\">\n",
              "  <thead>\n",
              "    <tr style=\"text-align: right;\">\n",
              "      <th></th>\n",
              "      <th>Record</th>\n",
              "      <th>Length_in_mins</th>\n",
              "      <th>non_apn_mins</th>\n",
              "      <th>apnea_mins</th>\n",
              "      <th>hours_with_apnea</th>\n",
              "      <th>AI</th>\n",
              "      <th>HI</th>\n",
              "      <th>AHI</th>\n",
              "      <th>Age</th>\n",
              "      <th>Sex</th>\n",
              "      <th>height(cm)</th>\n",
              "      <th>weight(kg)</th>\n",
              "      <th>Patient_status</th>\n",
              "    </tr>\n",
              "  </thead>\n",
              "  <tbody>\n",
              "    <tr>\n",
              "      <th>0</th>\n",
              "      <td>a01</td>\n",
              "      <td>490</td>\n",
              "      <td>20</td>\n",
              "      <td>470</td>\n",
              "      <td>9</td>\n",
              "      <td>12.50</td>\n",
              "      <td>57.1</td>\n",
              "      <td>69.60</td>\n",
              "      <td>51</td>\n",
              "      <td>M</td>\n",
              "      <td>175</td>\n",
              "      <td>102</td>\n",
              "      <td></td>\n",
              "    </tr>\n",
              "    <tr>\n",
              "      <th>1</th>\n",
              "      <td>a02</td>\n",
              "      <td>529</td>\n",
              "      <td>109</td>\n",
              "      <td>420</td>\n",
              "      <td>9</td>\n",
              "      <td>57.20</td>\n",
              "      <td>12.3</td>\n",
              "      <td>69.50</td>\n",
              "      <td>38</td>\n",
              "      <td>M</td>\n",
              "      <td>180</td>\n",
              "      <td>120</td>\n",
              "      <td></td>\n",
              "    </tr>\n",
              "    <tr>\n",
              "      <th>2</th>\n",
              "      <td>a03</td>\n",
              "      <td>520</td>\n",
              "      <td>274</td>\n",
              "      <td>246</td>\n",
              "      <td>9</td>\n",
              "      <td>38.40</td>\n",
              "      <td>0.7</td>\n",
              "      <td>39.10</td>\n",
              "      <td>54</td>\n",
              "      <td>M</td>\n",
              "      <td>168</td>\n",
              "      <td>80</td>\n",
              "      <td></td>\n",
              "    </tr>\n",
              "    <tr>\n",
              "      <th>3</th>\n",
              "      <td>a04</td>\n",
              "      <td>493</td>\n",
              "      <td>40</td>\n",
              "      <td>453</td>\n",
              "      <td>9</td>\n",
              "      <td>73.40</td>\n",
              "      <td>4.0</td>\n",
              "      <td>77.40</td>\n",
              "      <td>52</td>\n",
              "      <td>M</td>\n",
              "      <td>173</td>\n",
              "      <td>121</td>\n",
              "      <td></td>\n",
              "    </tr>\n",
              "    <tr>\n",
              "      <th>4</th>\n",
              "      <td>a05</td>\n",
              "      <td>455</td>\n",
              "      <td>179</td>\n",
              "      <td>276</td>\n",
              "      <td>8</td>\n",
              "      <td>35.00</td>\n",
              "      <td>6.0</td>\n",
              "      <td>41.00</td>\n",
              "      <td>58</td>\n",
              "      <td>M</td>\n",
              "      <td>176</td>\n",
              "      <td>78</td>\n",
              "      <td></td>\n",
              "    </tr>\n",
              "    <tr>\n",
              "      <th>...</th>\n",
              "      <td>...</td>\n",
              "      <td>...</td>\n",
              "      <td>...</td>\n",
              "      <td>...</td>\n",
              "      <td>...</td>\n",
              "      <td>...</td>\n",
              "      <td>...</td>\n",
              "      <td>...</td>\n",
              "      <td>...</td>\n",
              "      <td>...</td>\n",
              "      <td>...</td>\n",
              "      <td>...</td>\n",
              "      <td>...</td>\n",
              "    </tr>\n",
              "    <tr>\n",
              "      <th>65</th>\n",
              "      <td>x31</td>\n",
              "      <td>558</td>\n",
              "      <td>42</td>\n",
              "      <td>516</td>\n",
              "      <td>10</td>\n",
              "      <td>86.80</td>\n",
              "      <td>6.7</td>\n",
              "      <td>93.50</td>\n",
              "      <td>29</td>\n",
              "      <td>F</td>\n",
              "      <td>183</td>\n",
              "      <td>100</td>\n",
              "      <td></td>\n",
              "    </tr>\n",
              "    <tr>\n",
              "      <th>66</th>\n",
              "      <td>x32</td>\n",
              "      <td>539</td>\n",
              "      <td>114</td>\n",
              "      <td>425</td>\n",
              "      <td>9</td>\n",
              "      <td>63.30</td>\n",
              "      <td>8.5</td>\n",
              "      <td>71.80</td>\n",
              "      <td>29</td>\n",
              "      <td>F</td>\n",
              "      <td>183</td>\n",
              "      <td>100</td>\n",
              "      <td></td>\n",
              "    </tr>\n",
              "    <tr>\n",
              "      <th>67</th>\n",
              "      <td>x33</td>\n",
              "      <td>474</td>\n",
              "      <td>471</td>\n",
              "      <td>3</td>\n",
              "      <td>0</td>\n",
              "      <td>0.13</td>\n",
              "      <td>0.0</td>\n",
              "      <td>0.13</td>\n",
              "      <td>28</td>\n",
              "      <td>F</td>\n",
              "      <td>169</td>\n",
              "      <td>57</td>\n",
              "      <td></td>\n",
              "    </tr>\n",
              "    <tr>\n",
              "      <th>68</th>\n",
              "      <td>x34</td>\n",
              "      <td>476</td>\n",
              "      <td>472</td>\n",
              "      <td>4</td>\n",
              "      <td>0</td>\n",
              "      <td>0.38</td>\n",
              "      <td>0.0</td>\n",
              "      <td>0.38</td>\n",
              "      <td>30</td>\n",
              "      <td>F</td>\n",
              "      <td>168</td>\n",
              "      <td>56</td>\n",
              "      <td></td>\n",
              "    </tr>\n",
              "    <tr>\n",
              "      <th>69</th>\n",
              "      <td>x35</td>\n",
              "      <td>484</td>\n",
              "      <td>484</td>\n",
              "      <td>0</td>\n",
              "      <td>0</td>\n",
              "      <td>0.00</td>\n",
              "      <td>0.0</td>\n",
              "      <td>0.00</td>\n",
              "      <td>31</td>\n",
              "      <td>M</td>\n",
              "      <td>184</td>\n",
              "      <td>74</td>\n",
              "      <td></td>\n",
              "    </tr>\n",
              "  </tbody>\n",
              "</table>\n",
              "<p>70 rows × 13 columns</p>\n",
              "</div>"
            ],
            "text/plain": [
              "   Record  Length_in_mins  non_apn_mins  ...  height(cm)  weight(kg)  Patient_status\n",
              "0     a01             490            20  ...         175         102                \n",
              "1     a02             529           109  ...         180         120                \n",
              "2     a03             520           274  ...         168          80                \n",
              "3     a04             493            40  ...         173         121                \n",
              "4     a05             455           179  ...         176          78                \n",
              "..    ...             ...           ...  ...         ...         ...             ...\n",
              "65    x31             558            42  ...         183         100                \n",
              "66    x32             539           114  ...         183         100                \n",
              "67    x33             474           471  ...         169          57                \n",
              "68    x34             476           472  ...         168          56                \n",
              "69    x35             484           484  ...         184          74                \n",
              "\n",
              "[70 rows x 13 columns]"
            ]
          },
          "metadata": {},
          "execution_count": 7
        }
      ]
    },
    {
      "cell_type": "code",
      "metadata": {
        "colab": {
          "base_uri": "https://localhost:8080/",
          "height": 297
        },
        "id": "H8gDUYWUc3h3",
        "outputId": "ca8e1935-96fc-47da-a803-e8232399bcc0"
      },
      "source": [
        "apnea_data.describe()"
      ],
      "execution_count": null,
      "outputs": [
        {
          "output_type": "execute_result",
          "data": {
            "text/html": [
              "<div>\n",
              "<style scoped>\n",
              "    .dataframe tbody tr th:only-of-type {\n",
              "        vertical-align: middle;\n",
              "    }\n",
              "\n",
              "    .dataframe tbody tr th {\n",
              "        vertical-align: top;\n",
              "    }\n",
              "\n",
              "    .dataframe thead th {\n",
              "        text-align: right;\n",
              "    }\n",
              "</style>\n",
              "<table border=\"1\" class=\"dataframe\">\n",
              "  <thead>\n",
              "    <tr style=\"text-align: right;\">\n",
              "      <th></th>\n",
              "      <th>Length_in_mins</th>\n",
              "      <th>non_apn_mins</th>\n",
              "      <th>apnea_mins</th>\n",
              "      <th>hours_with_apnea</th>\n",
              "      <th>AI</th>\n",
              "      <th>HI</th>\n",
              "      <th>AHI</th>\n",
              "      <th>Age</th>\n",
              "      <th>height(cm)</th>\n",
              "      <th>weight(kg)</th>\n",
              "    </tr>\n",
              "  </thead>\n",
              "  <tbody>\n",
              "    <tr>\n",
              "      <th>count</th>\n",
              "      <td>70.000000</td>\n",
              "      <td>70.000000</td>\n",
              "      <td>70.000000</td>\n",
              "      <td>70.000000</td>\n",
              "      <td>70.000000</td>\n",
              "      <td>70.000000</td>\n",
              "      <td>70.000000</td>\n",
              "      <td>70.000000</td>\n",
              "      <td>70.000000</td>\n",
              "      <td>70.000000</td>\n",
              "    </tr>\n",
              "    <tr>\n",
              "      <th>mean</th>\n",
              "      <td>491.828571</td>\n",
              "      <td>305.171429</td>\n",
              "      <td>186.657143</td>\n",
              "      <td>5.085714</td>\n",
              "      <td>21.858000</td>\n",
              "      <td>6.189571</td>\n",
              "      <td>28.047571</td>\n",
              "      <td>45.142857</td>\n",
              "      <td>175.842857</td>\n",
              "      <td>86.757143</td>\n",
              "    </tr>\n",
              "    <tr>\n",
              "      <th>std</th>\n",
              "      <td>31.576441</td>\n",
              "      <td>156.571692</td>\n",
              "      <td>172.275385</td>\n",
              "      <td>3.899992</td>\n",
              "      <td>24.101227</td>\n",
              "      <td>9.423092</td>\n",
              "      <td>27.537779</td>\n",
              "      <td>10.837784</td>\n",
              "      <td>5.588901</td>\n",
              "      <td>20.730455</td>\n",
              "    </tr>\n",
              "    <tr>\n",
              "      <th>min</th>\n",
              "      <td>401.000000</td>\n",
              "      <td>11.000000</td>\n",
              "      <td>0.000000</td>\n",
              "      <td>0.000000</td>\n",
              "      <td>0.000000</td>\n",
              "      <td>0.000000</td>\n",
              "      <td>0.000000</td>\n",
              "      <td>27.000000</td>\n",
              "      <td>158.000000</td>\n",
              "      <td>53.000000</td>\n",
              "    </tr>\n",
              "    <tr>\n",
              "      <th>25%</th>\n",
              "      <td>470.250000</td>\n",
              "      <td>180.750000</td>\n",
              "      <td>3.250000</td>\n",
              "      <td>0.000000</td>\n",
              "      <td>0.030000</td>\n",
              "      <td>0.000000</td>\n",
              "      <td>0.130000</td>\n",
              "      <td>38.000000</td>\n",
              "      <td>171.500000</td>\n",
              "      <td>69.750000</td>\n",
              "    </tr>\n",
              "    <tr>\n",
              "      <th>50%</th>\n",
              "      <td>496.000000</td>\n",
              "      <td>320.500000</td>\n",
              "      <td>178.000000</td>\n",
              "      <td>6.500000</td>\n",
              "      <td>14.200000</td>\n",
              "      <td>3.500000</td>\n",
              "      <td>21.000000</td>\n",
              "      <td>44.000000</td>\n",
              "      <td>177.000000</td>\n",
              "      <td>85.000000</td>\n",
              "    </tr>\n",
              "    <tr>\n",
              "      <th>75%</th>\n",
              "      <td>511.000000</td>\n",
              "      <td>453.250000</td>\n",
              "      <td>323.500000</td>\n",
              "      <td>9.000000</td>\n",
              "      <td>34.750000</td>\n",
              "      <td>8.900000</td>\n",
              "      <td>42.750000</td>\n",
              "      <td>53.750000</td>\n",
              "      <td>179.750000</td>\n",
              "      <td>102.000000</td>\n",
              "    </tr>\n",
              "    <tr>\n",
              "      <th>max</th>\n",
              "      <td>578.000000</td>\n",
              "      <td>535.000000</td>\n",
              "      <td>534.000000</td>\n",
              "      <td>10.000000</td>\n",
              "      <td>86.800000</td>\n",
              "      <td>57.100000</td>\n",
              "      <td>93.500000</td>\n",
              "      <td>63.000000</td>\n",
              "      <td>184.000000</td>\n",
              "      <td>135.000000</td>\n",
              "    </tr>\n",
              "  </tbody>\n",
              "</table>\n",
              "</div>"
            ],
            "text/plain": [
              "       Length_in_mins  non_apn_mins  ...  height(cm)  weight(kg)\n",
              "count       70.000000     70.000000  ...   70.000000   70.000000\n",
              "mean       491.828571    305.171429  ...  175.842857   86.757143\n",
              "std         31.576441    156.571692  ...    5.588901   20.730455\n",
              "min        401.000000     11.000000  ...  158.000000   53.000000\n",
              "25%        470.250000    180.750000  ...  171.500000   69.750000\n",
              "50%        496.000000    320.500000  ...  177.000000   85.000000\n",
              "75%        511.000000    453.250000  ...  179.750000  102.000000\n",
              "max        578.000000    535.000000  ...  184.000000  135.000000\n",
              "\n",
              "[8 rows x 10 columns]"
            ]
          },
          "metadata": {},
          "execution_count": 8
        }
      ]
    },
    {
      "cell_type": "markdown",
      "metadata": {
        "id": "rBlxdm6pdqCs"
      },
      "source": [
        "**The Persons having a AHI value >5 are considered to be Patients and the others are Healthy**"
      ]
    },
    {
      "cell_type": "code",
      "metadata": {
        "id": "G3MF1FlVVlr9"
      },
      "source": [
        "#Patient_status column is updated with values\n",
        "apnea_data.loc[apnea_data['AHI'] > 5, 'Patient_status'] = 'Patient'\n",
        "apnea_data.loc[apnea_data['AHI'] <=5, 'Patient_status'] = 'Healthy'"
      ],
      "execution_count": null,
      "outputs": []
    },
    {
      "cell_type": "code",
      "metadata": {
        "id": "0N-5nHJgCoPX"
      },
      "source": [
        "apnea_data.loc[apnea_data['Sex'] =='M', 'Sex'] = 'Male'\n",
        "apnea_data.loc[apnea_data['Sex'] =='F', 'Sex'] = 'Female'"
      ],
      "execution_count": null,
      "outputs": []
    },
    {
      "cell_type": "code",
      "metadata": {
        "colab": {
          "base_uri": "https://localhost:8080/",
          "height": 419
        },
        "id": "BQ01lyn0AYwa",
        "outputId": "43dc08b0-54ca-48cf-936c-0c9315e76088"
      },
      "source": [
        "apnea_data"
      ],
      "execution_count": null,
      "outputs": [
        {
          "output_type": "execute_result",
          "data": {
            "text/html": [
              "<div>\n",
              "<style scoped>\n",
              "    .dataframe tbody tr th:only-of-type {\n",
              "        vertical-align: middle;\n",
              "    }\n",
              "\n",
              "    .dataframe tbody tr th {\n",
              "        vertical-align: top;\n",
              "    }\n",
              "\n",
              "    .dataframe thead th {\n",
              "        text-align: right;\n",
              "    }\n",
              "</style>\n",
              "<table border=\"1\" class=\"dataframe\">\n",
              "  <thead>\n",
              "    <tr style=\"text-align: right;\">\n",
              "      <th></th>\n",
              "      <th>Record</th>\n",
              "      <th>Length_in_mins</th>\n",
              "      <th>non_apn_mins</th>\n",
              "      <th>apnea_mins</th>\n",
              "      <th>hours_with_apnea</th>\n",
              "      <th>AI</th>\n",
              "      <th>HI</th>\n",
              "      <th>AHI</th>\n",
              "      <th>Age</th>\n",
              "      <th>Sex</th>\n",
              "      <th>height(cm)</th>\n",
              "      <th>weight(kg)</th>\n",
              "      <th>Patient_status</th>\n",
              "    </tr>\n",
              "  </thead>\n",
              "  <tbody>\n",
              "    <tr>\n",
              "      <th>0</th>\n",
              "      <td>a01</td>\n",
              "      <td>490</td>\n",
              "      <td>20</td>\n",
              "      <td>470</td>\n",
              "      <td>9</td>\n",
              "      <td>12.50</td>\n",
              "      <td>57.1</td>\n",
              "      <td>69.60</td>\n",
              "      <td>51</td>\n",
              "      <td>Male</td>\n",
              "      <td>175</td>\n",
              "      <td>102</td>\n",
              "      <td>Patient</td>\n",
              "    </tr>\n",
              "    <tr>\n",
              "      <th>1</th>\n",
              "      <td>a02</td>\n",
              "      <td>529</td>\n",
              "      <td>109</td>\n",
              "      <td>420</td>\n",
              "      <td>9</td>\n",
              "      <td>57.20</td>\n",
              "      <td>12.3</td>\n",
              "      <td>69.50</td>\n",
              "      <td>38</td>\n",
              "      <td>Male</td>\n",
              "      <td>180</td>\n",
              "      <td>120</td>\n",
              "      <td>Patient</td>\n",
              "    </tr>\n",
              "    <tr>\n",
              "      <th>2</th>\n",
              "      <td>a03</td>\n",
              "      <td>520</td>\n",
              "      <td>274</td>\n",
              "      <td>246</td>\n",
              "      <td>9</td>\n",
              "      <td>38.40</td>\n",
              "      <td>0.7</td>\n",
              "      <td>39.10</td>\n",
              "      <td>54</td>\n",
              "      <td>Male</td>\n",
              "      <td>168</td>\n",
              "      <td>80</td>\n",
              "      <td>Patient</td>\n",
              "    </tr>\n",
              "    <tr>\n",
              "      <th>3</th>\n",
              "      <td>a04</td>\n",
              "      <td>493</td>\n",
              "      <td>40</td>\n",
              "      <td>453</td>\n",
              "      <td>9</td>\n",
              "      <td>73.40</td>\n",
              "      <td>4.0</td>\n",
              "      <td>77.40</td>\n",
              "      <td>52</td>\n",
              "      <td>Male</td>\n",
              "      <td>173</td>\n",
              "      <td>121</td>\n",
              "      <td>Patient</td>\n",
              "    </tr>\n",
              "    <tr>\n",
              "      <th>4</th>\n",
              "      <td>a05</td>\n",
              "      <td>455</td>\n",
              "      <td>179</td>\n",
              "      <td>276</td>\n",
              "      <td>8</td>\n",
              "      <td>35.00</td>\n",
              "      <td>6.0</td>\n",
              "      <td>41.00</td>\n",
              "      <td>58</td>\n",
              "      <td>Male</td>\n",
              "      <td>176</td>\n",
              "      <td>78</td>\n",
              "      <td>Patient</td>\n",
              "    </tr>\n",
              "    <tr>\n",
              "      <th>...</th>\n",
              "      <td>...</td>\n",
              "      <td>...</td>\n",
              "      <td>...</td>\n",
              "      <td>...</td>\n",
              "      <td>...</td>\n",
              "      <td>...</td>\n",
              "      <td>...</td>\n",
              "      <td>...</td>\n",
              "      <td>...</td>\n",
              "      <td>...</td>\n",
              "      <td>...</td>\n",
              "      <td>...</td>\n",
              "      <td>...</td>\n",
              "    </tr>\n",
              "    <tr>\n",
              "      <th>65</th>\n",
              "      <td>x31</td>\n",
              "      <td>558</td>\n",
              "      <td>42</td>\n",
              "      <td>516</td>\n",
              "      <td>10</td>\n",
              "      <td>86.80</td>\n",
              "      <td>6.7</td>\n",
              "      <td>93.50</td>\n",
              "      <td>29</td>\n",
              "      <td>Female</td>\n",
              "      <td>183</td>\n",
              "      <td>100</td>\n",
              "      <td>Patient</td>\n",
              "    </tr>\n",
              "    <tr>\n",
              "      <th>66</th>\n",
              "      <td>x32</td>\n",
              "      <td>539</td>\n",
              "      <td>114</td>\n",
              "      <td>425</td>\n",
              "      <td>9</td>\n",
              "      <td>63.30</td>\n",
              "      <td>8.5</td>\n",
              "      <td>71.80</td>\n",
              "      <td>29</td>\n",
              "      <td>Female</td>\n",
              "      <td>183</td>\n",
              "      <td>100</td>\n",
              "      <td>Patient</td>\n",
              "    </tr>\n",
              "    <tr>\n",
              "      <th>67</th>\n",
              "      <td>x33</td>\n",
              "      <td>474</td>\n",
              "      <td>471</td>\n",
              "      <td>3</td>\n",
              "      <td>0</td>\n",
              "      <td>0.13</td>\n",
              "      <td>0.0</td>\n",
              "      <td>0.13</td>\n",
              "      <td>28</td>\n",
              "      <td>Female</td>\n",
              "      <td>169</td>\n",
              "      <td>57</td>\n",
              "      <td>Healthy</td>\n",
              "    </tr>\n",
              "    <tr>\n",
              "      <th>68</th>\n",
              "      <td>x34</td>\n",
              "      <td>476</td>\n",
              "      <td>472</td>\n",
              "      <td>4</td>\n",
              "      <td>0</td>\n",
              "      <td>0.38</td>\n",
              "      <td>0.0</td>\n",
              "      <td>0.38</td>\n",
              "      <td>30</td>\n",
              "      <td>Female</td>\n",
              "      <td>168</td>\n",
              "      <td>56</td>\n",
              "      <td>Healthy</td>\n",
              "    </tr>\n",
              "    <tr>\n",
              "      <th>69</th>\n",
              "      <td>x35</td>\n",
              "      <td>484</td>\n",
              "      <td>484</td>\n",
              "      <td>0</td>\n",
              "      <td>0</td>\n",
              "      <td>0.00</td>\n",
              "      <td>0.0</td>\n",
              "      <td>0.00</td>\n",
              "      <td>31</td>\n",
              "      <td>Male</td>\n",
              "      <td>184</td>\n",
              "      <td>74</td>\n",
              "      <td>Healthy</td>\n",
              "    </tr>\n",
              "  </tbody>\n",
              "</table>\n",
              "<p>70 rows × 13 columns</p>\n",
              "</div>"
            ],
            "text/plain": [
              "   Record  Length_in_mins  non_apn_mins  ...  height(cm)  weight(kg)  Patient_status\n",
              "0     a01             490            20  ...         175         102         Patient\n",
              "1     a02             529           109  ...         180         120         Patient\n",
              "2     a03             520           274  ...         168          80         Patient\n",
              "3     a04             493            40  ...         173         121         Patient\n",
              "4     a05             455           179  ...         176          78         Patient\n",
              "..    ...             ...           ...  ...         ...         ...             ...\n",
              "65    x31             558            42  ...         183         100         Patient\n",
              "66    x32             539           114  ...         183         100         Patient\n",
              "67    x33             474           471  ...         169          57         Healthy\n",
              "68    x34             476           472  ...         168          56         Healthy\n",
              "69    x35             484           484  ...         184          74         Healthy\n",
              "\n",
              "[70 rows x 13 columns]"
            ]
          },
          "metadata": {},
          "execution_count": 11
        }
      ]
    },
    {
      "cell_type": "markdown",
      "metadata": {
        "id": "Tg8Dp__CeLGe"
      },
      "source": [
        "**Plotting the Data to view the data distribution across all the records**"
      ]
    },
    {
      "cell_type": "markdown",
      "metadata": {
        "id": "nn9GCt9reRPg"
      },
      "source": [
        "Count of number of Patients and healthy persons"
      ]
    },
    {
      "cell_type": "code",
      "metadata": {
        "colab": {
          "base_uri": "https://localhost:8080/",
          "height": 297
        },
        "id": "_WxhpKOHbO6D",
        "outputId": "993980b8-ff02-4db7-a0bb-3b47e0d70bc5"
      },
      "source": [
        "import matplotlib.pyplot as plt\n",
        "import seaborn as sns\n",
        "\n",
        "sns.countplot(data=apnea_data, x='Patient_status')\n",
        "\n"
      ],
      "execution_count": null,
      "outputs": [
        {
          "output_type": "execute_result",
          "data": {
            "text/plain": [
              "<matplotlib.axes._subplots.AxesSubplot at 0x7f16c9c769d0>"
            ]
          },
          "metadata": {},
          "execution_count": 12
        },
        {
          "output_type": "display_data",
          "data": {
            "image/png": "[encoded data removed]",
            "text/plain": [
              "<Figure size 432x288 with 1 Axes>"
            ]
          },
          "metadata": {
            "needs_background": "light"
          }
        }
      ]
    },
    {
      "cell_type": "code",
      "metadata": {
        "colab": {
          "base_uri": "https://localhost:8080/"
        },
        "id": "tjUOhpRwYDyP",
        "outputId": "fa1ae688-9628-4020-d87e-e683626ad406"
      },
      "source": [
        "Patient_count=apnea_data['Patient_status'].value_counts()\n",
        "Patient_count"
      ],
      "execution_count": null,
      "outputs": [
        {
          "output_type": "execute_result",
          "data": {
            "text/plain": [
              "Patient    45\n",
              "Healthy    25\n",
              "Name: Patient_status, dtype: int64"
            ]
          },
          "metadata": {},
          "execution_count": 13
        }
      ]
    },
    {
      "cell_type": "markdown",
      "metadata": {
        "id": "KmkcFKAQedZg"
      },
      "source": [
        "Gender wise distribution of Patients and Health people"
      ]
    },
    {
      "cell_type": "code",
      "metadata": {
        "colab": {
          "base_uri": "https://localhost:8080/",
          "height": 296
        },
        "id": "eYFvXOzoMoLa",
        "outputId": "8e34d2a7-25c5-4027-fa74-90da1b0cbd1a"
      },
      "source": [
        "sns.countplot(data=apnea_data, x='Sex',hue='Patient_status')"
      ],
      "execution_count": null,
      "outputs": [
        {
          "output_type": "execute_result",
          "data": {
            "text/plain": [
              "<matplotlib.axes._subplots.AxesSubplot at 0x7f16b4b88d10>"
            ]
          },
          "metadata": {},
          "execution_count": 14
        },
        {
          "output_type": "display_data",
          "data": {
            "image/png": "[encoded data removed]",
            "text/plain": [
              "<Figure size 432x288 with 1 Axes>"
            ]
          },
          "metadata": {
            "needs_background": "light"
          }
        }
      ]
    },
    {
      "cell_type": "code",
      "metadata": {
        "colab": {
          "base_uri": "https://localhost:8080/"
        },
        "id": "xQi68xwUZsng",
        "outputId": "ebe007b3-87b7-4e70-b8f5-ec66f4f44674"
      },
      "source": [
        "apnea_data.groupby('Sex')['Patient_status'].value_counts()"
      ],
      "execution_count": null,
      "outputs": [
        {
          "output_type": "execute_result",
          "data": {
            "text/plain": [
              "Sex     Patient_status\n",
              "Female  Healthy           11\n",
              "        Patient            2\n",
              "Male    Patient           43\n",
              "        Healthy           14\n",
              "Name: Patient_status, dtype: int64"
            ]
          },
          "metadata": {},
          "execution_count": 15
        }
      ]
    },
    {
      "cell_type": "markdown",
      "metadata": {
        "id": "ytETAHwjejQC"
      },
      "source": [
        "Age wise count of Healthy people and patients"
      ]
    },
    {
      "cell_type": "code",
      "metadata": {
        "colab": {
          "base_uri": "https://localhost:8080/"
        },
        "id": "SFzroeGGZLKD",
        "outputId": "0cf266bc-9bd2-4557-84e2-a54733490796"
      },
      "source": [
        "apnea_data.groupby('Patient_status')['Age'].value_counts()"
      ],
      "execution_count": null,
      "outputs": [
        {
          "output_type": "execute_result",
          "data": {
            "text/plain": [
              "Patient_status  Age\n",
              "Healthy         27     4\n",
              "                31     4\n",
              "                28     3\n",
              "                30     2\n",
              "                37     2\n",
              "                39     2\n",
              "                41     2\n",
              "                42     2\n",
              "                44     2\n",
              "                52     2\n",
              "Patient         51     5\n",
              "                58     5\n",
              "                44     4\n",
              "                52     4\n",
              "                53     4\n",
              "                55     4\n",
              "                60     3\n",
              "                29     2\n",
              "                38     2\n",
              "                40     2\n",
              "                43     2\n",
              "                54     2\n",
              "                57     2\n",
              "                63     2\n",
              "                39     1\n",
              "                46     1\n",
              "Name: Age, dtype: int64"
            ]
          },
          "metadata": {},
          "execution_count": 16
        }
      ]
    },
    {
      "cell_type": "markdown",
      "metadata": {
        "id": "IYnswJmTeqMU"
      },
      "source": [
        "Distribution based on Age\n",
        "\n",
        "Most of the people having Apnea are avove the Age of 50"
      ]
    },
    {
      "cell_type": "code",
      "metadata": {
        "colab": {
          "base_uri": "https://localhost:8080/",
          "height": 442
        },
        "id": "VpKTBeVkZgZP",
        "outputId": "814b1e66-75f6-4f54-dfe1-e3c4b4a95dd0"
      },
      "source": [
        "countplt, ax = plt.subplots(figsize = (10,7))\n",
        "ax=sns.countplot(data=apnea_data, x='Age',hue='Patient_status')"
      ],
      "execution_count": null,
      "outputs": [
        {
          "output_type": "display_data",
          "data": {
            "image/png": "[encoded data removed]",
            "text/plain": [
              "<Figure size 720x504 with 1 Axes>"
            ]
          },
          "metadata": {
            "needs_background": "light"
          }
        }
      ]
    },
    {
      "cell_type": "code",
      "metadata": {
        "colab": {
          "base_uri": "https://localhost:8080/",
          "height": 496
        },
        "id": "FRTP-irmNQq_",
        "outputId": "359042c9-be33-4115-99b5-8ae1913cfbe4"
      },
      "source": [
        "fig, ax1 = plt.subplots(figsize = (10,7))\n",
        "ax1=sns.distplot(apnea_data['Age'],kde=True)\n"
      ],
      "execution_count": null,
      "outputs": [
        {
          "output_type": "stream",
          "name": "stderr",
          "text": [
            "/usr/local/lib/python3.7/dist-packages/seaborn/distributions.py:2619: FutureWarning: `distplot` is a deprecated function and will be removed in a future version. Please adapt your code to use either `displot` (a figure-level function with similar flexibility) or `histplot` (an axes-level function for histograms).\n",
            "  warnings.warn(msg, FutureWarning)\n"
          ]
        },
        {
          "output_type": "display_data",
          "data": {
            "image/png": "[encoded data removed]",
            "text/plain": [
              "<Figure size 720x504 with 1 Axes>"
            ]
          },
          "metadata": {
            "needs_background": "light"
          }
        }
      ]
    },
    {
      "cell_type": "markdown",
      "metadata": {
        "id": "J8-8Cg_qe928"
      },
      "source": [
        "Distribution based on the Number of Apnea Hours"
      ]
    },
    {
      "cell_type": "code",
      "metadata": {
        "colab": {
          "base_uri": "https://localhost:8080/",
          "height": 335
        },
        "id": "iDctEj5hbDWZ",
        "outputId": "b3bc0ddc-58df-49c4-fb9a-0206e5b6aac5"
      },
      "source": [
        "fig, ax2 = plt.subplots(figsize = (8,5))\n",
        "ax2 = sns.violinplot(x=apnea_data[\"hours_with_apnea\"])"
      ],
      "execution_count": null,
      "outputs": [
        {
          "output_type": "display_data",
          "data": {
            "image/png": "[encoded data removed]",
            "text/plain": [
              "<Figure size 576x360 with 1 Axes>"
            ]
          },
          "metadata": {
            "needs_background": "light"
          }
        }
      ]
    },
    {
      "cell_type": "code",
      "metadata": {
        "colab": {
          "base_uri": "https://localhost:8080/",
          "height": 297
        },
        "id": "9iprv2t4brjQ",
        "outputId": "9f2d095a-f98e-4783-f984-5591328d2cc5"
      },
      "source": [
        "sns.histplot(apnea_data['hours_with_apnea'])"
      ],
      "execution_count": null,
      "outputs": [
        {
          "output_type": "execute_result",
          "data": {
            "text/plain": [
              "<matplotlib.axes._subplots.AxesSubplot at 0x7f16ad9eac50>"
            ]
          },
          "metadata": {},
          "execution_count": 22
        },
        {
          "output_type": "display_data",
          "data": {
            "image/png": "[encoded data removed]",
            "text/plain": [
              "<Figure size 432x288 with 1 Axes>"
            ]
          },
          "metadata": {
            "needs_background": "light"
          }
        }
      ]
    }
  ]
}